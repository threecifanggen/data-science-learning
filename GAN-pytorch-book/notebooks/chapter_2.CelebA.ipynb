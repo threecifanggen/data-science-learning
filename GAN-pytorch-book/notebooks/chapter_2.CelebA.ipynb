{
 "cells": [
  {
   "cell_type": "code",
   "execution_count": 13,
   "metadata": {},
   "outputs": [],
   "source": [
    "import torch\n",
    "from torchvision.datasets import CelebA\n",
    "\n",
    "import os\n",
    "\n",
    "\n",
    "os.environ['http_proxy'] = \"http://127.0.0.1:58591\" \n",
    "os.environ['https_proxy'] = \"http://127.0.0.1:58591\" "
   ]
  },
  {
   "cell_type": "code",
   "execution_count": 18,
   "metadata": {},
   "outputs": [
    {
     "data": {
      "text/plain": [
       "0.0"
      ]
     },
     "execution_count": 18,
     "metadata": {},
     "output_type": "execute_result"
    }
   ],
   "source": [
    "# celeba_datasets = CelebA(\"../../../../../../../datasets\", download=True)\n",
    "device = torch.device(\"cuda\")\n",
    "(torch.cuda.memory_allocated(device) / (1024*1024*1024))"
   ]
  }
 ],
 "metadata": {
  "interpreter": {
   "hash": "0c0995c6b1f0c6aff0a6ec92f472ee82e92038222c855613d81708e1126a8f7a"
  },
  "kernelspec": {
   "display_name": "Python 3.9.7 64-bit ('torch': conda)",
   "language": "python",
   "name": "python3"
  },
  "language_info": {
   "codemirror_mode": {
    "name": "ipython",
    "version": 3
   },
   "file_extension": ".py",
   "mimetype": "text/x-python",
   "name": "python",
   "nbconvert_exporter": "python",
   "pygments_lexer": "ipython3",
   "version": "3.9.7"
  },
  "orig_nbformat": 4
 },
 "nbformat": 4,
 "nbformat_minor": 2
}
