{
 "cells": [
  {
   "cell_type": "markdown",
   "metadata": {},
   "source": [
    "# 第二章 概率编程"
   ]
  },
  {
   "cell_type": "markdown",
   "metadata": {},
   "source": [
    "## 2.1 概率编程\n",
    "\n",
    "### 2.1.1 推断引擎\n",
    "\n",
    "后验计算方法：\n",
    "\n",
    "1. 非马尔科夫链\n",
    "    * 网格计算\n",
    "    * 二次近似\n",
    "    * 变分方法\n",
    "2. 马尔科夫方法\n",
    "    * Metropolis-Hastings算法\n",
    "    * 哈密尔顿蒙特卡洛(Hamiltonian Monte Carlo)/不掉向采样(No U-Turn Sampler, NUTS)"
   ]
  },
  {
   "cell_type": "code",
   "execution_count": null,
   "metadata": {},
   "outputs": [],
   "source": []
  }
 ],
 "metadata": {
  "interpreter": {
   "hash": "81ee8574ca4b949f1a68324cabe052a24810371303122f0dfbc70cb842d7a9dc"
  },
  "kernelspec": {
   "display_name": "Python 3.7.4 64-bit ('stats': conda)",
   "name": "python3"
  },
  "language_info": {
   "name": "python",
   "version": "3.7.4"
  },
  "orig_nbformat": 4
 },
 "nbformat": 4,
 "nbformat_minor": 2
}
