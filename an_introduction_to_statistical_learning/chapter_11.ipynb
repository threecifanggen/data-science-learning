{
 "cells": [
  {
   "cell_type": "markdown",
   "metadata": {},
   "source": [
    "# 11. 生存分析"
   ]
  },
  {
   "cell_type": "markdown",
   "metadata": {},
   "source": [
    "## 概念题\n",
    "\n",
    "### 1. 判断截取是独立的\n",
    "\n",
    "For each example, state whether or not the censoring mechanism is independent. Justify your answer.\n",
    "\n",
    "(a) In a study of disease relapse, due to a careless research scientist,all patients whose phone numbers begin with the number “2” are lost to follow up.\n",
    "\n",
    "> 是独立的。\n",
    "\n",
    "(b) In a study of longevity, a formatting error causes all patient ages that exceed 99 years to be lost (i.e. we know that those patients are more than 99 years old, but we do not know their exact ages).\n",
    "\n",
    "> 不是独立的。\n",
    "\n",
    "(c) Hospital A conducts a study of longevity. However, very sick patients tend to be transferred to Hospital B, and are lost to follow up.\n",
    "\n",
    "> 不是独立的。\n",
    "\n",
    "(d)In a study of unemployment duration, the people who find work earlier are less motivated to stay in touch with study investigators, and therefore are more likely to be lost to follow up.\n",
    "\n",
    "> 不是独立的。\n",
    "\n",
    "(e) In a study of pregnancy duration, women who deliver their babies pre-term are more likely to do so away from their usual hospital, and thus are more likely to be censored, relative towomen who deliver full-term babies.\n",
    "\n",
    "> 是独立的。\n",
    "\n",
    "(f)A researcher wishes to model the number of years of education of the residents of a small town. Residents who enroll in college out of town are more likely to be lost to follow up, and are also more likely to attend graduate school, relative to those who attend college in town.\n",
    "\n",
    "> 独立的。\n",
    "\n",
    "(g) Researchers conduct a study of disease-free survival (i.e. timeuntil disease relapse following treatment). Patients who have not relapsed within five years are considered to be cured, and thus their survival time is censored at five years.\n",
    "\n",
    "> 可以。\n",
    "\n",
    "(h) We wish to model the failure time for some electrical component.This component can be manufactured in Iowa or in Pittsburgh,with no difference in quality. The Iowa factory opened five yearsago, and so components manufactured in Iowa are censored atfive years. The Pittsburgh factory opened two years ago, so thosecomponents are censored at two years.\n",
    "\n",
    "(i) We wish to model the failure time of an electrical componentmade in two different factories, one of which opened before theother. We have reason to believe that the components manufac-tured in the factory that opened earlier are of higher quality."
   ]
  },
  {
   "cell_type": "code",
   "execution_count": 6,
   "metadata": {},
   "outputs": [],
   "source": [
    "import pandas as pd\n",
    "from lifelines import KaplanMeierFitter\n",
    "from lifelines.plotting import plot_lifetimes\n",
    "\n",
    "from lifelines.datasets import load_canadian_senators"
   ]
  },
  {
   "cell_type": "markdown",
   "metadata": {},
   "source": [
    "## 实践\n",
    "\n",
    "### 10. `tumor`数据\n",
    "\n",
    "This exercise focuses on the brain tumor data, which is included in the `ISLR2` `R` library."
   ]
  },
  {
   "cell_type": "code",
   "execution_count": 68,
   "metadata": {},
   "outputs": [],
   "source": [
    "from math import ceil, log\n",
    "from itertools import dropwhile\n",
    "\n",
    "def split_n_for_m_piece(n, m):\n",
    "    if m == 1:\n",
    "        return [n]\n",
    "    else:\n",
    "        res = ceil(n / m)\n",
    "        return [res] + split_n_for_m_piece(n - res, m - 1)\n",
    "\n",
    "def split_n(n):\n",
    "    if n == 0 or n == 1:\n",
    "        return n\n",
    "    else:\n",
    "        m = next(\n",
    "            dropwhile(\n",
    "                lambda x: x[1] < x[2] < n,\n",
    "                ((i, i ** i, (i+1) **(i+1) ) for i in range(1, n))\n",
    "            ))[0]\n",
    "        print(n, m + 1, n -m - 1)\n",
    "        return (m + 1) * split_n(n - m - 1)"
   ]
  },
  {
   "cell_type": "code",
   "execution_count": 69,
   "metadata": {},
   "outputs": [
    {
     "name": "stdout",
     "output_type": "stream",
     "text": [
      "9 3 6\n",
      "6 3 3\n",
      "3 2 1\n"
     ]
    },
    {
     "data": {
      "text/plain": [
       "18"
      ]
     },
     "execution_count": 69,
     "metadata": {},
     "output_type": "execute_result"
    }
   ],
   "source": [
    "split_n(9)"
   ]
  },
  {
   "cell_type": "code",
   "execution_count": null,
   "metadata": {},
   "outputs": [],
   "source": [
    "def split_n(n):\n",
    "    if n == 1:\n",
    "        return 1\n",
    "    else:\n",
    "        m = next(dropwhile(lambda x: x[1] < x[2] < 28, ((i, i ** i, (i+1) **(i+1) )for i in range(1, 100))))\n",
    "        return m * split_n(n - m)"
   ]
  },
  {
   "cell_type": "code",
   "execution_count": 17,
   "metadata": {},
   "outputs": [
    {
     "data": {
      "text/plain": [
       "13122"
      ]
     },
     "execution_count": 17,
     "metadata": {},
     "output_type": "execute_result"
    }
   ],
   "source": [
    "3 ** 8 * 2"
   ]
  },
  {
   "cell_type": "code",
   "execution_count": 19,
   "metadata": {},
   "outputs": [
    {
     "data": {
      "text/plain": [
       "8748"
      ]
     },
     "execution_count": 19,
     "metadata": {},
     "output_type": "execute_result"
    }
   ],
   "source": [
    "3 ** 7 * 4 * 1"
   ]
  },
  {
   "cell_type": "code",
   "execution_count": null,
   "metadata": {},
   "outputs": [],
   "source": []
  },
  {
   "cell_type": "code",
   "execution_count": 16,
   "metadata": {},
   "outputs": [
    {
     "data": {
      "text/plain": [
       "(3, 27, 256)"
      ]
     },
     "execution_count": 16,
     "metadata": {},
     "output_type": "execute_result"
    }
   ],
   "source": [
    "next(dropwhile(lambda x: x[1] < x[2] < 28, ((i, i ** i, (i+1) **(i+1) )for i in range(1, 100))))"
   ]
  }
 ],
 "metadata": {
  "interpreter": {
   "hash": "81ee8574ca4b949f1a68324cabe052a24810371303122f0dfbc70cb842d7a9dc"
  },
  "kernelspec": {
   "display_name": "Python 3.7.4 64-bit ('stats': conda)",
   "name": "python3"
  },
  "language_info": {
   "codemirror_mode": {
    "name": "ipython",
    "version": 3
   },
   "file_extension": ".py",
   "mimetype": "text/x-python",
   "name": "python",
   "nbconvert_exporter": "python",
   "pygments_lexer": "ipython3",
   "version": "3.7.4"
  },
  "orig_nbformat": 4
 },
 "nbformat": 4,
 "nbformat_minor": 2
}
