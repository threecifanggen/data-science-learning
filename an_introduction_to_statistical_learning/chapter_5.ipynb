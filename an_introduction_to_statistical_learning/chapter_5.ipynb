{
 "cells": [
  {
   "cell_type": "markdown",
   "metadata": {},
   "source": [
    "# 第五章 重抽样方法"
   ]
  },
  {
   "cell_type": "code",
   "execution_count": 1,
   "metadata": {},
   "outputs": [],
   "source": [
    "import warnings\n",
    "warnings.filterwarnings('ignore')\n",
    "from sklearn.model_selection import train_test_split\n",
    "from sklearn.model_selection import LeaveOneOut\n",
    "from sklearn.metrics import (\n",
    "    mean_squared_error,\n",
    "    log_loss,\n",
    ")\n",
    "from sklearn.linear_model import (\n",
    "    LogisticRegression,\n",
    "    LogisticRegressionCV\n",
    ")\n",
    "import pandas as pd\n",
    "import numpy as np"
   ]
  },
  {
   "cell_type": "markdown",
   "metadata": {},
   "source": [
    "## 应用\n",
    "\n",
    "### defualt数据集\n",
    "\n",
    "In Chapter 4, we used logistic regression to predict the probability of `default` using `income` and `balance` on the `Default` data set. We will now estimate the test error of this logistic regression model using thevalidation set approach. Do not forget to set a random seed beforebeginning your analysis.\n",
    "\n",
    "(a) Fit a logistic regression model that uses `income` and `balance` to predict `default`.\n"
   ]
  },
  {
   "cell_type": "code",
   "execution_count": 2,
   "metadata": {},
   "outputs": [
    {
     "name": "stdout",
     "output_type": "stream",
     "text": [
      "test error: 0.0345\n",
      "train_error: 0.033375\n",
      "\n"
     ]
    }
   ],
   "source": [
    "np.random.seed(seed=10)\n",
    "default_df = pd.read_csv(\"datasets/Default.csv\")\n",
    "\n",
    "default_X_train, default_X_test, default_y_train, default_y_test = train_test_split(\n",
    "    default_df[['income', 'balance']],\n",
    "    default_df['default'].apply(lambda x: True if x == \"Yes\" else False),\n",
    "    test_size=0.2)\n",
    "\n",
    "default_lr_raw = LogisticRegression().fit(default_X_train, default_y_train)\n",
    "\n",
    "default_lr_raw_train_error = np.sum(np.abs(\n",
    "    default_lr_raw.predict(default_X_train) >= 0.5 -\n",
    "    default_y_train\n",
    ")) / default_y_train.count()\n",
    "\n",
    "default_lr_raw_test_error = np.sum(np.abs(\n",
    "    default_lr_raw.predict(default_X_test) >= 0.5 - \n",
    "    default_y_test\n",
    ")) / default_y_test.count()\n",
    "\n",
    "\n",
    "print(f\"\"\"\\\n",
    "test error: {default_lr_raw_test_error}\n",
    "train_error: {default_lr_raw_train_error}\n",
    "\"\"\")"
   ]
  },
  {
   "cell_type": "markdown",
   "metadata": {},
   "source": [
    "(b) Using the validation set approach, estimate the test error of this model. In order to do this, you must perform the following steps:\n",
    "\n",
    "i. Split the sample set into a training set and a validation set.\n",
    "\n",
    "ii. Fit a multiple logistic regression model using only the training observations.\n",
    "\n",
    "iii. Obtain a prediction of default status for each individual in the validation set by computing the posterior probability of default for that individual, and classifying the individual to the default category if the posterior probability is greaterthan 0.5.\n",
    "\n",
    "iv. Compute the validation set error, which is the fraction ofthe observations in the validation set that are misclassified.\n",
    "\n",
    "(c) Repeat the process in (b) three times, using three different splits of the observations into a training set and a validation set. Comment on the results obtained.\n",
    "\n"
   ]
  },
  {
   "cell_type": "code",
   "execution_count": 12,
   "metadata": {},
   "outputs": [],
   "source": [
    "np.random.seed(seed=20)\n",
    "loo = LeaveOneOut()\n",
    "\n",
    "res = []\n",
    "\n",
    "default_X_train.index = list(range(len(default_X_train.index)))\n",
    "\n",
    "for train_index, validation_index in loo.split(default_X_train):\n",
    "    X_train, X_validation = default_X_train.iloc[train_index, :], default_X_train.iloc[validation_index, :]\n",
    "    y_train, y_validation = default_y_train.iloc[train_index], default_y_train.iloc[validation_index]\n",
    "    lr_model_temp = LogisticRegression().fit(X_train, y_train)\n",
    "    train_error = np.sum(np.abs(lr_model_temp.predict(X_train) >= 0.5 - y_train)) / y_train.count()\n",
    "    validation_error = np.sum(np.abs(lr_model_temp.predict(X_validation) >= 0.5 - y_validation))\n",
    "    test_error = np.sum(np.abs(lr_model_temp.predict(default_X_test) >= 0.5 - default_y_test)) / default_y_test.count()\n",
    "    res.append((train_error, validation_error, test_error))\n",
    "\n",
    "res_df = pd.DataFrame(res, columns=['train_error', 'validation_error', 'test_error'])\n"
   ]
  },
  {
   "cell_type": "code",
   "execution_count": 13,
   "metadata": {},
   "outputs": [
    {
     "name": "stdout",
     "output_type": "stream",
     "text": [
      "\n",
      "validation_error: 0.0335\n",
      "train_error: 0.03337503125390675\n",
      "test_error: 0.03449999999999999\n",
      "\n"
     ]
    }
   ],
   "source": [
    "print(f\"\"\"\n",
    "validation_error: {res_df['validation_error'].mean()}\n",
    "train_error: {res_df['train_error'].mean()}\n",
    "test_error: {res_df['test_error'].mean()}\n",
    "\"\"\")"
   ]
  },
  {
   "cell_type": "markdown",
   "metadata": {},
   "source": [
    "(d) Now consider a logistic regression model that predicts the probability of default using income,balance, and a dummy variable for student. Estimate the test error for this model using the validation set approach. Comment on whether or not including adummy variable for student leads to a reduction in the test error rate."
   ]
  },
  {
   "cell_type": "code",
   "execution_count": 20,
   "metadata": {},
   "outputs": [
    {
     "name": "stdout",
     "output_type": "stream",
     "text": [
      "test error: 0.0345\n",
      "train_error: 0.033375\n",
      "\n"
     ]
    }
   ],
   "source": [
    "np.random.seed(seed=10)\n",
    "default_df = pd.read_csv(\"datasets/Default.csv\")\n",
    "default_df['student_encode'] = default_df.student.apply(lambda x: True if x == \"Yes\" else False)\n",
    "\n",
    "default_X_train, default_X_test, default_y_train, default_y_test = train_test_split(\n",
    "    default_df[['income', 'balance', \"student_encode\"]],\n",
    "    default_df['default'].apply(lambda x: True if x == \"Yes\" else False),\n",
    "    test_size=0.2)\n",
    "\n",
    "default_lr_raw = LogisticRegression().fit(default_X_train, default_y_train)\n",
    "\n",
    "default_lr_raw_train_error = np.sum(np.abs(\n",
    "    default_lr_raw.predict(default_X_train) >= 0.5 -\n",
    "    default_y_train\n",
    ")) / default_y_train.count()\n",
    "\n",
    "default_lr_raw_test_error = np.sum(np.abs(\n",
    "    default_lr_raw.predict(default_X_test) >= 0.5 - \n",
    "    default_y_test\n",
    ")) / default_y_test.count()\n",
    "\n",
    "\n",
    "print(f\"\"\"\\\n",
    "test error: {default_lr_raw_test_error}\n",
    "train_error: {default_lr_raw_train_error}\n",
    "\"\"\")"
   ]
  }
 ],
 "metadata": {
  "interpreter": {
   "hash": "81ee8574ca4b949f1a68324cabe052a24810371303122f0dfbc70cb842d7a9dc"
  },
  "kernelspec": {
   "display_name": "Python 3.7.4 64-bit ('stats': conda)",
   "name": "python3"
  },
  "language_info": {
   "codemirror_mode": {
    "name": "ipython",
    "version": 3
   },
   "file_extension": ".py",
   "mimetype": "text/x-python",
   "name": "python",
   "nbconvert_exporter": "python",
   "pygments_lexer": "ipython3",
   "version": "3.7.4"
  },
  "orig_nbformat": 4
 },
 "nbformat": 4,
 "nbformat_minor": 2
}
