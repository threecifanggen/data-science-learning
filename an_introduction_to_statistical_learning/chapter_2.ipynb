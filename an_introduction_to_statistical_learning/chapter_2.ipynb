{
 "cells": [
  {
   "cell_type": "markdown",
   "metadata": {},
   "source": [
    "Chapter 2"
   ]
  },
  {
   "cell_type": "markdown",
   "metadata": {},
   "source": [
    "## Conceptual\n",
    "\n",
    "### 1. 第一题\n",
    "\n",
    "For each of parts (a) through (d), indicate whether we would generally expect the performance of a flexible statistical learning method to be better or worse than an inflexible method. Justify your answer.\n",
    "\n",
    "(a) The sample size $n$ is extremely large, and the number of predic-tors $p$ is small.\n",
    "\n",
    "> 适合用一个flexible的方法\n",
    "\n",
    "(b) The number of predictors $p$ is extremely large, and the number of observations $n$ is small.\n",
    "\n",
    "> 适合一个inflexible的方法。\n",
    "\n",
    "(c) The relationship between the predictors and response is highly non-linear.\n",
    "\n",
    "> 适合flexible的方法\n",
    "\n",
    "(d) The variance of the error terms, i.e. $\\sigma ^ 2=Var(\\epsilon)$, is extremely high.\n",
    "\n",
    "> 适合替换一个flexible的方法。"
   ]
  }
 ],
 "metadata": {
  "interpreter": {
   "hash": "81ee8574ca4b949f1a68324cabe052a24810371303122f0dfbc70cb842d7a9dc"
  },
  "kernelspec": {
   "display_name": "Python 3.7.4 64-bit ('stats': conda)",
   "name": "python3"
  },
  "language_info": {
   "name": "python",
   "version": "3.7.4"
  },
  "orig_nbformat": 4
 },
 "nbformat": 4,
 "nbformat_minor": 2
}
