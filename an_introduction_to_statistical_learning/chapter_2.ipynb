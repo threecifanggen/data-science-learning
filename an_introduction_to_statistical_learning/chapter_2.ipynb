{
 "cells": [
  {
   "cell_type": "markdown",
   "metadata": {},
   "source": [
    "# Chapter 2"
   ]
  },
  {
   "cell_type": "markdown",
   "metadata": {},
   "source": [
    "## Conceptual\n",
    "\n",
    "### 1. 第一题\n",
    "\n",
    "For each of parts (a) through (d), indicate whether we would generally expect the performance of a flexible statistical learning method to be better or worse than an inflexible method. Justify your answer.\n",
    "\n",
    "(a) The sample size $n$ is extremely large, and the number of predic-tors $p$ is small.\n",
    "\n",
    "> 好。适合用一个flexible的方法\n",
    "\n",
    "(b) The number of predictors $p$ is extremely large, and the number of observations $n$ is small.\n",
    "\n",
    "> 不好。适合一个inflexible的方法。\n",
    "\n",
    "(c) The relationship between the predictors and response is highly non-linear.\n",
    "\n",
    "> 好。适合flexible的方法\n",
    "\n",
    "(d) The variance of the error terms, i.e. $\\sigma ^ 2=Var(\\epsilon)$, is extremely high.\n",
    "\n",
    "> 不好。适合替换一个flexible的方法。"
   ]
  },
  {
   "cell_type": "markdown",
   "metadata": {},
   "source": [
    "## 2. 第二题\n",
    "\n",
    "Explain whether each scenario is a classification or regression problem, and indicate whether we are most interested in inference or prediction. Finally, provide $n$ and $p$.\n",
    "\n",
    "(a) We collect a set of data on the top 500 firms in the US. For each firm we record profit, number of employees, industry and the CEO salary. We are interested in understanding which factors affect CEO salary.\n",
    "\n",
    "> 一个回归问题，比较在意的是解释模型而不是预测模型。\n",
    "\n",
    "(b) We are considering launching a new product and wish to know whether it will be a success or a failure. We collect data on 20 similar products that were previously launched. For each product we have recorded whether it was a success or failure, price charged for the product, marketing budget, competition price,and ten other variables.\n",
    "\n",
    "> 分类问题。比较在意预测。\n",
    "\n",
    "(c) We are interesting in predicting the % change in the US dollar inrelation to the weekly changes in the world stock markets. Hence we collect weekly data for all of 2012. For each week we record the % change in the dollar, the % change in the US market,the % change in the British market, and the % change in the German market.\n",
    "\n",
    "> 回归问题。预测。\n"
   ]
  },
  {
   "cell_type": "markdown",
   "metadata": {},
   "source": [
    "## 3. 第三题\n",
    "\n",
    "We now revisit the bias-variance decomposition.\n",
    "\n",
    "(a) Provide a sketch of typical (squared) bias, variance, training error, test error, and Bayes (or irreducible) error curves, on a single plot, as we go from less flexible statistical learning methods towards more flexible approaches. The x-axis should represent the amount of flexibility in the method, and the y-axis should represent the values for each curve. There should be five curves. Make sure to label each one.\n",
    "\n",
    "> squared bias：会越来越小\n",
    ">\n",
    "> variance: 越来越大\n",
    ">\n",
    "> training error: 越来越小\n",
    "> \n",
    "> test error: 先变小再变大\n",
    "> \n",
    "> 贝叶斯错误曲线： 直线\n",
    "\n",
    "(b) Explain why each of the five curves has the shape displayed inpart (a).\n",
    "\n",
    "> \n",
    "\n"
   ]
  }
 ],
 "metadata": {
  "interpreter": {
   "hash": "81ee8574ca4b949f1a68324cabe052a24810371303122f0dfbc70cb842d7a9dc"
  },
  "kernelspec": {
   "display_name": "Python 3.7.4 64-bit ('stats': conda)",
   "name": "python3"
  },
  "language_info": {
   "name": "python",
   "version": "3.7.4"
  },
  "orig_nbformat": 4
 },
 "nbformat": 4,
 "nbformat_minor": 2
}
